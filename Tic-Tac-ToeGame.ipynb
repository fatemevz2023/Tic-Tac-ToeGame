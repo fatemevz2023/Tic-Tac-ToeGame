{
  "cells": [
    {
      "cell_type": "markdown",
      "metadata": {
        "id": "rYcOh769OFPW"
      },
      "source": [
        "# پروژه1"
      ]
    },
    {
      "cell_type": "markdown",
      "metadata": {
        "id": "GyR6Dcs5OFPl"
      },
      "source": []
    },
    {
      "cell_type": "code",
      "execution_count": null,
      "metadata": {
        "id": "qf_6RUpWOFPo"
      },
      "outputs": [],
      "source": [
        "from IPython.display import clear_output"
      ]
    },
    {
      "cell_type": "markdown",
      "source": [
        "Printing a 3x3 table containing 1-9 numbers"
      ],
      "metadata": {
        "id": "9xrLC6fQtY8x"
      }
    },
    {
      "cell_type": "code",
      "execution_count": null,
      "metadata": {
        "id": "D_PxxxscOFPz"
      },
      "outputs": [],
      "source": [
        "def display_board(board):\n",
        "    clear_output()\n",
        "    # TO DO\n",
        "    print(f\"{board[1]} | {board[2]} | {board[3]}\")\n",
        "    print(\"---------\")\n",
        "    print(f\"{board[4]} | {board[5]} | {board[6]}\")\n",
        "    print(\"---------\")\n",
        "    print(f\"{board[7]} | {board[8]} | {board[9]}\")"
      ]
    },
    {
      "cell_type": "code",
      "execution_count": null,
      "metadata": {
        "id": "JzPx-wRuOFP1"
      },
      "outputs": [],
      "source": [
        "test1 = ['s','X','o','X','o','X','o','X','o','O']"
      ]
    },
    {
      "cell_type": "code",
      "execution_count": null,
      "metadata": {
        "colab": {
          "base_uri": "https://localhost:8080/"
        },
        "id": "1SnOR6GyOFP3",
        "outputId": "bd7b682c-c6d0-4923-9129-c98d2601e41c"
      },
      "outputs": [
        {
          "output_type": "stream",
          "name": "stdout",
          "text": [
            "X | o | X\n",
            "---------\n",
            "o | X | o\n",
            "---------\n",
            "X | o | O\n"
          ]
        }
      ],
      "source": [
        "display_board(test1)"
      ]
    },
    {
      "cell_type": "markdown",
      "source": [
        "Write a function that will continue to ask questions using while until the first and second players have not chosen the values of x and o, and will announce when they get the correct answer."
      ],
      "metadata": {
        "id": "l_oy2SpQuNRh"
      }
    },
    {
      "cell_type": "code",
      "source": [
        "def player_input():\n",
        "  p = 0\n",
        "\n",
        "  while  not (p == 'x' or p == 'o'):\n",
        "      p = input(\"Player one wants to be 'x' or 'o' :\")\n",
        "  return p\n"
      ],
      "metadata": {
        "id": "RJxWCpYghkfz"
      },
      "execution_count": null,
      "outputs": []
    },
    {
      "cell_type": "code",
      "execution_count": null,
      "metadata": {
        "id": "UI5Es0R_OFQZ"
      },
      "outputs": [],
      "source": [
        "#player_input()"
      ]
    },
    {
      "cell_type": "markdown",
      "source": [
        "A function that places the value of o or x in one of the points from 1 to 9"
      ],
      "metadata": {
        "id": "wEz0WON7uf72"
      }
    },
    {
      "cell_type": "code",
      "execution_count": null,
      "metadata": {
        "id": "6QBScnwSOFQo"
      },
      "outputs": [],
      "source": [
        "def place_marker(board,marker,position):\n",
        "    if position not in [1, 2, 3, 4, 5, 6, 7, 8, 9]:\n",
        "      print(\"The position is not correct, it must be in range (1-9)\")\n",
        "    elif board[position] == \" \":\n",
        "      board[position] = marker\n",
        "    elif  board[position] == 'x':\n",
        "      print(\"Error, this place is ocupied by 'x'\")\n",
        "    else:\n",
        "      print(\"Error, this place is ocupied by 'o'\")\n",
        "\n",
        "    return board\n",
        "    # TO DO"
      ]
    },
    {
      "cell_type": "code",
      "source": [
        "def place_marker1(board,marker):\n",
        "    pos = int(input(\"Please enter pos in (1-9): \"))\n",
        "    if not(pos in [1, 2, 3, 4, 5, 6, 7, 8, 9]):\n",
        "      pos = int(input(\"Please enter pos in (1-9): \"))\n",
        "\n",
        "    elif board[pos] == \" \":\n",
        "      board[pos] = marker\n",
        "    elif  board[pos] == 'x':\n",
        "      print(\"Error, this place is ocupied by 'x'\")\n",
        "    else:\n",
        "      print(\"Error, this place is ocupied by 'o'\")\n",
        "    return board"
      ],
      "metadata": {
        "id": "oSm3WNbUlsIW"
      },
      "execution_count": null,
      "outputs": []
    },
    {
      "cell_type": "code",
      "source": [
        "def reset_board(board):\n",
        "  board = [' ']*10\n",
        "  return board"
      ],
      "metadata": {
        "id": "-wc3VHRdqfzq"
      },
      "execution_count": null,
      "outputs": []
    },
    {
      "cell_type": "code",
      "source": [
        "testboard = test1"
      ],
      "metadata": {
        "id": "XJCqp8W-SK9F"
      },
      "execution_count": null,
      "outputs": []
    },
    {
      "cell_type": "code",
      "source": [
        "testboard"
      ],
      "metadata": {
        "colab": {
          "base_uri": "https://localhost:8080/"
        },
        "id": "cUsFvFTVSRv1",
        "outputId": "9768a274-bb6c-4966-ac1e-100a21e184f3"
      },
      "execution_count": null,
      "outputs": [
        {
          "output_type": "execute_result",
          "data": {
            "text/plain": [
              "['s', 'X', 'o', 'X', 'o', 'X', 'o', 'X', 'o', 'O']"
            ]
          },
          "metadata": {},
          "execution_count": 12
        }
      ]
    },
    {
      "cell_type": "code",
      "source": [
        "testboard = reset_board(testboard)\n",
        "testboard"
      ],
      "metadata": {
        "colab": {
          "base_uri": "https://localhost:8080/"
        },
        "id": "KEmpDopMUKG6",
        "outputId": "301abc51-b33e-483f-cb2f-b3011a5d5944"
      },
      "execution_count": null,
      "outputs": [
        {
          "output_type": "execute_result",
          "data": {
            "text/plain": [
              "[' ', ' ', ' ', ' ', ' ', ' ', ' ', ' ', ' ', ' ']"
            ]
          },
          "metadata": {},
          "execution_count": 13
        }
      ]
    },
    {
      "cell_type": "code",
      "execution_count": null,
      "metadata": {
        "colab": {
          "base_uri": "https://localhost:8080/"
        },
        "id": "3X-uTkP4OFQq",
        "outputId": "ea231152-2d50-4ec9-b56f-373fc5582d3b"
      },
      "outputs": [
        {
          "output_type": "execute_result",
          "data": {
            "text/plain": [
              "[' ', ' ', ' ', 'o', ' ', ' ', ' ', ' ', ' ', ' ']"
            ]
          },
          "metadata": {},
          "execution_count": 14
        }
      ],
      "source": [
        "place_marker(testboard,'o',3)"
      ]
    },
    {
      "cell_type": "code",
      "source": [
        "#place_marker1(testboard,'o')"
      ],
      "metadata": {
        "id": "3RQNuDGPl6xY"
      },
      "execution_count": null,
      "outputs": []
    },
    {
      "cell_type": "code",
      "source": [
        "reset_board(testboard)"
      ],
      "metadata": {
        "id": "SbV7Eovlqtme",
        "colab": {
          "base_uri": "https://localhost:8080/"
        },
        "outputId": "2f689604-33e6-429b-cac3-b52ead93aaa3"
      },
      "execution_count": null,
      "outputs": [
        {
          "output_type": "execute_result",
          "data": {
            "text/plain": [
              "[' ', ' ', ' ', ' ', ' ', ' ', ' ', ' ', ' ', ' ']"
            ]
          },
          "metadata": {},
          "execution_count": 16
        }
      ]
    },
    {
      "cell_type": "code",
      "execution_count": null,
      "metadata": {
        "colab": {
          "base_uri": "https://localhost:8080/"
        },
        "id": "PFpvIBtIOFQr",
        "outputId": "5edfb6a4-1f0c-4f41-e949-7c6796118d39"
      },
      "outputs": [
        {
          "output_type": "stream",
          "name": "stdout",
          "text": [
            "  |   | o\n",
            "---------\n",
            "  |   |  \n",
            "---------\n",
            "  |   |  \n"
          ]
        }
      ],
      "source": [
        "display_board(testboard)"
      ]
    },
    {
      "cell_type": "markdown",
      "metadata": {
        "id": "xA90gKnvOFQv"
      },
      "source": [
        "A function that checks if a player has won?"
      ]
    },
    {
      "cell_type": "code",
      "execution_count": null,
      "metadata": {
        "id": "ZrWGpiLxOFQx"
      },
      "outputs": [],
      "source": [
        "def win_check(board,marker):\n",
        "    if (board[1:4] == [marker,marker,marker]) or (board[4:7] == [marker,marker,marker]) or (board[7:10] == [marker,marker,marker]) or (board[1]==board[5]==board[9]==marker) or (board[3]==board[5]==board[7]==marker):\n",
        "      print (f\"The player with marker {marker} won\")\n",
        "    else:\n",
        "      return False\n",
        "\n",
        "    # TO DO"
      ]
    },
    {
      "cell_type": "code",
      "execution_count": null,
      "metadata": {
        "colab": {
          "base_uri": "https://localhost:8080/"
        },
        "id": "OOcY_NKPOFQy",
        "outputId": "222d681e-3b48-4b96-dc62-204f5193492a"
      },
      "outputs": [
        {
          "output_type": "execute_result",
          "data": {
            "text/plain": [
              "False"
            ]
          },
          "metadata": {},
          "execution_count": 19
        }
      ],
      "source": [
        "win_check(testboard,'x')"
      ]
    },
    {
      "cell_type": "code",
      "execution_count": null,
      "metadata": {
        "id": "QPo1aeELOFQ0",
        "colab": {
          "base_uri": "https://localhost:8080/"
        },
        "outputId": "72accf40-d871-4322-e950-690750dc37a8"
      },
      "outputs": [
        {
          "output_type": "execute_result",
          "data": {
            "text/plain": [
              "False"
            ]
          },
          "metadata": {},
          "execution_count": 20
        }
      ],
      "source": [
        "win_check(list(test1),'o')"
      ]
    },
    {
      "cell_type": "markdown",
      "source": [
        "A function that randomly gives the turn to one of the parties"
      ],
      "metadata": {
        "id": "jxrRAuC9u2cy"
      }
    },
    {
      "cell_type": "code",
      "execution_count": null,
      "metadata": {
        "id": "TGG7P1leOFQ2"
      },
      "outputs": [],
      "source": [
        "import random\n",
        "def choose_first():\n",
        "  turn = ['Computer','Player']\n",
        "  first = random.choice(turn)\n",
        "  return first\n",
        ""
      ]
    },
    {
      "cell_type": "code",
      "execution_count": null,
      "metadata": {
        "colab": {
          "base_uri": "https://localhost:8080/",
          "height": 35
        },
        "id": "wBlbAlpGOFQ3",
        "outputId": "f2fe354f-5b1f-407a-e4a0-36ee23bf988f"
      },
      "outputs": [
        {
          "output_type": "execute_result",
          "data": {
            "text/plain": [
              "'Computer'"
            ],
            "application/vnd.google.colaboratory.intrinsic+json": {
              "type": "string"
            }
          },
          "metadata": {},
          "execution_count": 22
        }
      ],
      "source": [
        "choose_first()"
      ]
    },
    {
      "cell_type": "markdown",
      "source": [
        "Write a function that returns a boolean that the space is free or not?"
      ],
      "metadata": {
        "id": "xMZ0RgyRu8IA"
      }
    },
    {
      "cell_type": "code",
      "execution_count": null,
      "metadata": {
        "id": "rqWqXg2tOFQ5"
      },
      "outputs": [],
      "source": [
        "def space_check(board,position):\n",
        "    if board[position] == \" \":\n",
        "      print(\"This place is empty\")\n",
        "    else:\n",
        "      print(\"This place is occupied\")\n",
        "    # TO DO"
      ]
    },
    {
      "cell_type": "code",
      "source": [
        "space_check(testboard,6)"
      ],
      "metadata": {
        "colab": {
          "base_uri": "https://localhost:8080/"
        },
        "id": "uQ5_Y-koxCEs",
        "outputId": "8b595a93-e853-48a4-91ae-e0efbc926af4"
      },
      "execution_count": null,
      "outputs": [
        {
          "output_type": "stream",
          "name": "stdout",
          "text": [
            "This place is empty\n"
          ]
        }
      ]
    },
    {
      "cell_type": "markdown",
      "source": [
        "A function that checks if the table is full or not?"
      ],
      "metadata": {
        "id": "dyw5bkr_vEG5"
      }
    },
    {
      "cell_type": "code",
      "execution_count": null,
      "metadata": {
        "id": "KlbMff5KOFQ6"
      },
      "outputs": [],
      "source": [
        "def full_board_check(board):\n",
        "    if \" \" in board[1:]:\n",
        "        return False\n",
        "    else:\n",
        "        print(\"The table is full\")\n",
        "        return True\n",
        "    # TO DO"
      ]
    },
    {
      "cell_type": "code",
      "execution_count": null,
      "metadata": {
        "colab": {
          "base_uri": "https://localhost:8080/"
        },
        "id": "AjERtbGSOFQ7",
        "outputId": "635d5e06-6548-4793-c5a9-c98e905990fa"
      },
      "outputs": [
        {
          "output_type": "stream",
          "name": "stdout",
          "text": [
            "The table is not full\n"
          ]
        }
      ],
      "source": [
        "full_board_check(testboard)"
      ]
    },
    {
      "cell_type": "markdown",
      "source": [
        "A function that receives a location and returns it if it is between 1 and 9"
      ],
      "metadata": {
        "id": "v_aWB0VnvLUT"
      }
    },
    {
      "cell_type": "code",
      "execution_count": null,
      "metadata": {
        "id": "NgqXfbuLOFRS"
      },
      "outputs": [],
      "source": [
        "def player_choice(board):\n",
        "    position = int(input(\"Choose a position(1-9): \"))\n",
        "    if board[position] != \" \":\n",
        "      return board[position]\n",
        "    else:\n",
        "      print (\"this place is not empty\")\n",
        "    # TO DO"
      ]
    },
    {
      "cell_type": "code",
      "execution_count": null,
      "metadata": {
        "colab": {
          "base_uri": "https://localhost:8080/"
        },
        "id": "dGWRe77sOFRT",
        "outputId": "9e8cb5ba-2d3e-42c8-aacd-5ddc0b974718"
      },
      "outputs": [
        {
          "output_type": "stream",
          "name": "stdout",
          "text": [
            "Choose a position(1-9): 4\n",
            "this place is not empty\n"
          ]
        }
      ],
      "source": [
        "player_choice(testboard)"
      ]
    },
    {
      "cell_type": "markdown",
      "source": [
        "A function that declares if the player is interested in repeating the game"
      ],
      "metadata": {
        "id": "Xmy25CW4vYge"
      }
    },
    {
      "cell_type": "code",
      "execution_count": null,
      "metadata": {
        "id": "LbMDQNRWOFRW"
      },
      "outputs": [],
      "source": [
        "def replay():\n",
        "    rep = int(input(\"Do you want to continue?: \"))\n",
        "    return rep\n",
        "    # TO DO"
      ]
    },
    {
      "cell_type": "markdown",
      "source": [
        "Running the game using a while loop"
      ],
      "metadata": {
        "id": "GGwDQVqvvmGT"
      }
    },
    {
      "cell_type": "code",
      "source": [
        "#place_marker1(testboard,'o')"
      ],
      "metadata": {
        "colab": {
          "base_uri": "https://localhost:8080/"
        },
        "id": "ryvpmsCHimgu",
        "outputId": "4b921019-7779-4ca2-a5ff-9dd8313560d2"
      },
      "execution_count": null,
      "outputs": [
        {
          "name": "stdout",
          "output_type": "stream",
          "text": [
            "Please enter pos in (1-9): 5\n"
          ]
        },
        {
          "output_type": "execute_result",
          "data": {
            "text/plain": [
              "[' ', ' ', ' ', 'o', ' ', 'o', ' ', ' ', ' ', ' ']"
            ]
          },
          "metadata": {},
          "execution_count": 31
        }
      ]
    },
    {
      "cell_type": "code",
      "source": [
        "testboard"
      ],
      "metadata": {
        "colab": {
          "base_uri": "https://localhost:8080/",
          "height": 165
        },
        "id": "T6N_nB19icv-",
        "outputId": "d3ab64e4-c937-4234-b5b1-7afe53fe4cf3"
      },
      "execution_count": null,
      "outputs": [
        {
          "output_type": "error",
          "ename": "NameError",
          "evalue": "ignored",
          "traceback": [
            "\u001b[0;31m---------------------------------------------------------------------------\u001b[0m",
            "\u001b[0;31mNameError\u001b[0m                                 Traceback (most recent call last)",
            "\u001b[0;32m<ipython-input-6-06190f99bada>\u001b[0m in \u001b[0;36m<module>\u001b[0;34m\u001b[0m\n\u001b[0;32m----> 1\u001b[0;31m \u001b[0mtestboard\u001b[0m\u001b[0;34m\u001b[0m\u001b[0;34m\u001b[0m\u001b[0m\n\u001b[0m",
            "\u001b[0;31mNameError\u001b[0m: name 'testboard' is not defined"
          ]
        }
      ]
    },
    {
      "cell_type": "code",
      "source": [
        "computer_position(testboard, 'x')"
      ],
      "metadata": {
        "colab": {
          "base_uri": "https://localhost:8080/"
        },
        "id": "GqY2CyZFiVxv",
        "outputId": "ce3a6c69-5027-4b08-be1e-fd0dd5f2502b"
      },
      "execution_count": null,
      "outputs": [
        {
          "output_type": "execute_result",
          "data": {
            "text/plain": [
              "[' ', ' ', ' ', 'o', ' ', 'o', ' ', ' ', 'x', ' ']"
            ]
          },
          "metadata": {},
          "execution_count": 33
        }
      ]
    },
    {
      "cell_type": "markdown",
      "source": [
        "**Main code and its functions write from here again**"
      ],
      "metadata": {
        "id": "ITCWXoXIMziF"
      }
    },
    {
      "cell_type": "code",
      "source": [
        "testboard = [' ']*10"
      ],
      "metadata": {
        "id": "0ZtagD7qO4_R"
      },
      "execution_count": null,
      "outputs": []
    },
    {
      "cell_type": "code",
      "source": [
        "#from IPython.display import clear_output\n",
        "import random\n",
        "testboard = [' ']*10\n",
        "def display_board(board):\n",
        "    #x1clear_output()\n",
        "    print(f\"{board[1]} | {board[2]} | {board[3]}\")\n",
        "    print(\"---------\")\n",
        "    print(f\"{board[4]} | {board[5]} | {board[6]}\")\n",
        "    print(\"---------\")\n",
        "    print(f\"{board[7]} | {board[8]} | {board[9]}\")\n",
        "\n",
        "def player_input():\n",
        "    p = 0\n",
        "    while not (p == 'x' or p == 'o'):\n",
        "        p = input(\"Player one wants to be 'x' or 'o': \")\n",
        "    return p\n",
        "\n",
        "def place_marker(board, marker, position):\n",
        "    if position not in [1, 2, 3, 4, 5, 6, 7, 8, 9]:\n",
        "        print(\"The position is not correct, it must be in range (1-9)\")\n",
        "    elif board[position] == \" \":\n",
        "        board[position] = marker\n",
        "    elif board[position] == 'x':\n",
        "        print(\"Error, this place is occupied by 'x'\")\n",
        "    else:\n",
        "        print(\"Error, this place is occupied by 'o'\")\n",
        "    return board\n",
        "\n",
        "def reset_board(board):\n",
        "    board = [' ']*10\n",
        "    return board\n",
        "\n",
        "def win_check(board, marker):\n",
        "    if (board[1] == board[2] == board[3] == marker or\n",
        "        board[4] == board[5] == board[6] == marker or\n",
        "        board[7] == board[8] == board[9] == marker or\n",
        "        board[1] == board[5] == board[9] == marker or\n",
        "        board[3] == board[5] == board[7] == marker or\n",
        "        board[1] == board[4] == board[7] == marker or\n",
        "        board[2] == board[5] == board[8] == marker or\n",
        "        board[3] == board[6] == board[9] == marker):\n",
        "        return True\n",
        "    else:\n",
        "        return False\n",
        "\n",
        "def choose_first():\n",
        "    turn = ['Computer', 'Player']\n",
        "    return random.choice(turn)\n",
        "\n",
        "def space_check(board, position):\n",
        "    if board[position] == \" \":\n",
        "        print(\"This place is empty\")\n",
        "        return 0\n",
        "    else:\n",
        "        print(\"This place is occupied\")\n",
        "        return 1\n",
        "\n",
        "\n",
        "def full_board_check(board):\n",
        "    if \" \" in board[1:]:\n",
        "        return False\n",
        "    else:\n",
        "        print(\"The table is full\")\n",
        "        return True\n",
        "\n",
        "def player_choice(board):\n",
        "    while True:\n",
        "        position = int(input(\"Choose a position (1-9): \"))\n",
        "        if board[position] == \" \":\n",
        "            return position\n",
        "        else:\n",
        "            print(\"This place is not empty\")\n",
        "\n",
        "def computer_position(board, com_marker):\n",
        "    rand_pos = [1, 2, 3, 4, 5, 6, 7, 8, 9]\n",
        "    position = random.choice(rand_pos)\n",
        "\n",
        "    while not(board[position] == \" \"):\n",
        "      position = random.choice(rand_pos)\n",
        "    board[position] = com_marker\n",
        "    return board\n",
        "\n",
        "def reply():\n",
        "\n",
        "    rep = input(\"Do you want to play again? (y/n): \")\n",
        "    return rep"
      ],
      "metadata": {
        "id": "f-FzOGo7K2xQ"
      },
      "execution_count": null,
      "outputs": []
    },
    {
      "cell_type": "code",
      "execution_count": null,
      "metadata": {
        "colab": {
          "base_uri": "https://localhost:8080/"
        },
        "id": "KpRwFyAyOFRY",
        "outputId": "d1406467-762d-4dfd-d176-469e32ee7e93"
      },
      "outputs": [
        {
          "name": "stdout",
          "output_type": "stream",
          "text": [
            "First choice is: Computer and p_marker = o and com_marker = x\n",
            "Enter a number in (1-9): 1\n",
            "o |   |  \n",
            "---------\n",
            "  |   |  \n",
            "---------\n",
            "  |   |  \n",
            "#######################\n",
            "o |   |  \n",
            "---------\n",
            "  |   |  \n",
            "---------\n",
            "  |   | x\n",
            "#######################\n",
            "Enter a number in (1-9): 2\n",
            "o | o |  \n",
            "---------\n",
            "  |   |  \n",
            "---------\n",
            "  |   | x\n",
            "#######################\n",
            "o | o |  \n",
            "---------\n",
            "  | x |  \n",
            "---------\n",
            "  |   | x\n",
            "#######################\n",
            "Enter a number in (1-9): 3\n",
            "o | o | o\n",
            "---------\n",
            "  | x |  \n",
            "---------\n",
            "  |   | x\n",
            "#######################\n",
            "The Player won\n",
            "Do you want to play again? (y/n): n\n"
          ]
        }
      ],
      "source": [
        "testboard = 10*[\" \"]\n",
        "x = True\n",
        "while x ==True:\n",
        "    testboard = reset_board(testboard)\n",
        "    p1 = choose_first()\n",
        "    if p1 == 'Computer':\n",
        "        rand_marker = ['x','o']\n",
        "        com_marker = random.choice(rand_marker)\n",
        "        if com_marker.lower() == 'x':\n",
        "            p_marker = 'o'\n",
        "        else:\n",
        "            p_marker = 'x'\n",
        "    else:\n",
        "        p_marker = player_input()\n",
        "        if p_marker.lower() == 'x':\n",
        "            com_marker = 'o'\n",
        "        else:\n",
        "            com_marker = 'x'\n",
        "\n",
        "    print(f\"First choice is: {p1} and p_marker = {p_marker} and com_marker = {com_marker}\")\n",
        "\n",
        "    if p1 == 'Computer':\n",
        "        turn = 'p'\n",
        "    else:\n",
        "        turn = 'com'\n",
        "\n",
        "    while x == True:\n",
        "        if full_board_check(testboard):\n",
        "            print(\"The board is full\")\n",
        "            play_again = reply()\n",
        "            if play_again.lower() == 'n':\n",
        "                break\n",
        "                x = False\n",
        "            else:\n",
        "                break\n",
        "\n",
        "        elif win_check(testboard,com_marker):\n",
        "            print(\"The computer won\")\n",
        "            play_again = reply()\n",
        "            if play_again.lower() == 'n':\n",
        "                x = False\n",
        "                break\n",
        "            else:\n",
        "                break\n",
        "\n",
        "        elif win_check(testboard,p_marker):\n",
        "            print(\"The Player won\")\n",
        "            play_again = reply()\n",
        "            if play_again == 'n':\n",
        "                x = False\n",
        "                break\n",
        "            else:\n",
        "                break\n",
        "\n",
        "        elif turn == 'com':\n",
        "            computer_position(testboard, com_marker)\n",
        "            turn = 'p'\n",
        "            display_board(testboard)\n",
        "            print(\"#######################\")\n",
        "        elif turn == 'p':\n",
        "            turn = 'com'\n",
        "            y = int(input(\"Enter a number in (1-9): \"))\n",
        "            place_marker(testboard,p_marker,y)\n",
        "            display_board(testboard)\n",
        "            print(\"#######################\")\n",
        "\n",
        "\n",
        "\n",
        "\n",
        "\n",
        "  #display_board(testboard)\n",
        "\n",
        "\n",
        "\n",
        "\n",
        "\n",
        "\n",
        "\n",
        "\n",
        "\n",
        "#while True:\n",
        "    # TO DO\n",
        ""
      ]
    }
  ],
  "metadata": {
    "kernelspec": {
      "display_name": "Python 3",
      "language": "python",
      "name": "python3"
    },
    "language_info": {
      "codemirror_mode": {
        "name": "ipython",
        "version": 3
      },
      "file_extension": ".py",
      "mimetype": "text/x-python",
      "name": "python",
      "nbconvert_exporter": "python",
      "pygments_lexer": "ipython3",
      "version": "3.8.5"
    },
    "colab": {
      "provenance": []
    },
    "accelerator": "GPU",
    "gpuClass": "standard"
  },
  "nbformat": 4,
  "nbformat_minor": 0
}